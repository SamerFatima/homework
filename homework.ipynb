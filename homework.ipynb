{
 "cells": [
  {
   "cell_type": "code",
   "execution_count": null,
   "metadata": {},
   "outputs": [],
   "source": [
    "# sir please check."
   ]
  },
  {
   "cell_type": "code",
   "execution_count": 2,
   "metadata": {},
   "outputs": [
    {
     "name": "stdout",
     "output_type": "stream",
     "text": [
      "\t\t***Wellcome dear costomer***\n",
      "\t\t\"PLease order your pizza\" \n",
      "PLease order your pizza: \n",
      "\t Large\n",
      "\t Medium\n",
      "\t Small\n",
      "Tell pizza size from above: large\n",
      "\t Fjita\n",
      "\t Tikka\n",
      "\t Mexican\n",
      "Tell flavour from above: tikka\n",
      "\t Olives\n",
      "\t Cheese\n",
      "\t Hurbs\n",
      "\t Mushrooms\n",
      "Tell toppings from above: olives ,cheese\n",
      "\n",
      "Here is your order: \n",
      "Thank You.\n",
      "* large\n",
      "* tikka\n",
      "* olives ,cheese\n"
     ]
    }
   ],
   "source": [
    "availableSize = [\"large\",\"medium\",\"small\"]\n",
    "availableFlavours = [\"fjita\",\"tikka\",\"mexican\"]\n",
    "availableToppings = [\"olives\",\"cheese\",\"hurbs\",\"mushrooms\"]\n",
    "\n",
    "order = []\n",
    "\n",
    "print(\"\\t\\t***Wellcome dear costomer***\")\n",
    "print(\"\\t\\t\\\"PLease order your pizza\\\" \")\n",
    "print(\"PLease order your pizza: \")\n",
    "\n",
    "while True:\n",
    "    for x in availableSize:\n",
    "        print(\"\\t\", x.title())\n",
    "    size = input(\"Tell pizza size from above: \")\n",
    "    order.append(size)\n",
    "    break\n",
    "while True:\n",
    "    for x1 in availableFlavours:\n",
    "        print(\"\\t\", x1.title())\n",
    "    flavour = input(\"Tell flavour from above: \")\n",
    "    order.append(flavour)\n",
    "    break\n",
    "    \n",
    "while True:\n",
    "    for x2 in availableToppings:\n",
    "        print(\"\\t\", x2.title())\n",
    "    topping = input(\"Tell toppings from above: \")\n",
    "    order.append(topping)\n",
    "    break\n",
    "print(\"\\nHere is your order: \\nThank You.\")    \n",
    "for o in order:\n",
    "    print(\"*\",o)"
   ]
  },
  {
   "cell_type": "code",
   "execution_count": null,
   "metadata": {},
   "outputs": [],
   "source": []
  }
 ],
 "metadata": {
  "kernelspec": {
   "display_name": "Python 3",
   "language": "python",
   "name": "python3"
  },
  "language_info": {
   "codemirror_mode": {
    "name": "ipython",
    "version": 3
   },
   "file_extension": ".py",
   "mimetype": "text/x-python",
   "name": "python",
   "nbconvert_exporter": "python",
   "pygments_lexer": "ipython3",
   "version": "3.7.3"
  }
 },
 "nbformat": 4,
 "nbformat_minor": 2
}
